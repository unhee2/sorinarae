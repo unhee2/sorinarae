{
 "cells": [
  {
   "cell_type": "code",
   "execution_count": 2,
   "metadata": {},
   "outputs": [],
   "source": [
    "import pandas as pd\n",
    "import os\n",
    "from tkinter import filedialog\n",
    "from tkinter import messagebox"
   ]
  },
  {
   "cell_type": "code",
   "execution_count": 3,
   "metadata": {},
   "outputs": [
    {
     "data": {
      "text/html": [
       "<div>\n",
       "<style scoped>\n",
       "    .dataframe tbody tr th:only-of-type {\n",
       "        vertical-align: middle;\n",
       "    }\n",
       "\n",
       "    .dataframe tbody tr th {\n",
       "        vertical-align: top;\n",
       "    }\n",
       "\n",
       "    .dataframe thead th {\n",
       "        text-align: right;\n",
       "    }\n",
       "</style>\n",
       "<table border=\"1\" class=\"dataframe\">\n",
       "  <thead>\n",
       "    <tr style=\"text-align: right;\">\n",
       "      <th></th>\n",
       "      <th>거래일시</th>\n",
       "      <th>금액</th>\n",
       "      <th>내용</th>\n",
       "      <th>메모</th>\n",
       "    </tr>\n",
       "  </thead>\n",
       "  <tbody>\n",
       "    <tr>\n",
       "      <th>0</th>\n",
       "      <td>2023.08.19 16:26:35</td>\n",
       "      <td>-19000</td>\n",
       "      <td>네이버페이</td>\n",
       "      <td>아퀴 연합공연 카메라 대여</td>\n",
       "    </tr>\n",
       "    <tr>\n",
       "      <th>1</th>\n",
       "      <td>2023.08.19 18:14:01</td>\n",
       "      <td>1</td>\n",
       "      <td>독일당근</td>\n",
       "      <td></td>\n",
       "    </tr>\n",
       "    <tr>\n",
       "      <th>2</th>\n",
       "      <td>2023.08.19 18:14:36</td>\n",
       "      <td>-15020</td>\n",
       "      <td>쿠팡</td>\n",
       "      <td>마이크 커버 구매</td>\n",
       "    </tr>\n",
       "    <tr>\n",
       "      <th>3</th>\n",
       "      <td>2023.08.20 13:45:51</td>\n",
       "      <td>3125186</td>\n",
       "      <td>전형빈 41기통장 이월금</td>\n",
       "      <td></td>\n",
       "    </tr>\n",
       "    <tr>\n",
       "      <th>4</th>\n",
       "      <td>2023.08.20 20:47:39</td>\n",
       "      <td>-539000</td>\n",
       "      <td>김수만(원픽뮤직)</td>\n",
       "      <td>아퀴 연합공연 대관비</td>\n",
       "    </tr>\n",
       "    <tr>\n",
       "      <th>...</th>\n",
       "      <td>...</td>\n",
       "      <td>...</td>\n",
       "      <td>...</td>\n",
       "      <td>...</td>\n",
       "    </tr>\n",
       "    <tr>\n",
       "      <th>430</th>\n",
       "      <td>2023.12.15 20:42:43</td>\n",
       "      <td>1500</td>\n",
       "      <td>박유찬</td>\n",
       "      <td></td>\n",
       "    </tr>\n",
       "    <tr>\n",
       "      <th>431</th>\n",
       "      <td>2023.12.15 20:42:59</td>\n",
       "      <td>1500</td>\n",
       "      <td>이민성</td>\n",
       "      <td></td>\n",
       "    </tr>\n",
       "    <tr>\n",
       "      <th>432</th>\n",
       "      <td>2023.12.15 20:44:12</td>\n",
       "      <td>3000</td>\n",
       "      <td>이신애</td>\n",
       "      <td></td>\n",
       "    </tr>\n",
       "    <tr>\n",
       "      <th>433</th>\n",
       "      <td>2023.12.15 20:46:06</td>\n",
       "      <td>7500</td>\n",
       "      <td>윤혜령</td>\n",
       "      <td></td>\n",
       "    </tr>\n",
       "    <tr>\n",
       "      <th>434</th>\n",
       "      <td>2023.12.15 22:51:40</td>\n",
       "      <td>-423000</td>\n",
       "      <td>고향산천원조숯불닭</td>\n",
       "      <td></td>\n",
       "    </tr>\n",
       "  </tbody>\n",
       "</table>\n",
       "<p>435 rows × 4 columns</p>\n",
       "</div>"
      ],
      "text/plain": [
       "                    거래일시       금액             내용              메모\n",
       "0    2023.08.19 16:26:35   -19000          네이버페이  아퀴 연합공연 카메라 대여\n",
       "1    2023.08.19 18:14:01        1           독일당근                \n",
       "2    2023.08.19 18:14:36   -15020             쿠팡       마이크 커버 구매\n",
       "3    2023.08.20 13:45:51  3125186  전형빈 41기통장 이월금                \n",
       "4    2023.08.20 20:47:39  -539000      김수만(원픽뮤직)     아퀴 연합공연 대관비\n",
       "..                   ...      ...            ...             ...\n",
       "430  2023.12.15 20:42:43     1500            박유찬                \n",
       "431  2023.12.15 20:42:59     1500            이민성                \n",
       "432  2023.12.15 20:44:12     3000            이신애                \n",
       "433  2023.12.15 20:46:06     7500            윤혜령                \n",
       "434  2023.12.15 22:51:40  -423000      고향산천원조숯불닭                \n",
       "\n",
       "[435 rows x 4 columns]"
      ]
     },
     "metadata": {},
     "output_type": "display_data"
    }
   ],
   "source": [
    "df = pd.read_excel(io='C:/Users/dldns/OneDrive/Desktop/coding/python/sorinarae/~20231215.xlsx',engine='openpyxl',skiprows=11,names=['거래일시', '금액','내용', '메모'], \n",
    "usecols=\"B,D,G,H\")\n",
    "df = df.fillna(\"\")\n",
    "display(df)"
   ]
  },
  {
   "cell_type": "markdown",
   "metadata": {},
   "source": [
    "정산해야 할 금액, 정산해야 할 인원(메모장에 입력 후 복붙) 입력 후 미정산 인원 출력"
   ]
  },
  {
   "cell_type": "code",
   "execution_count": 2,
   "metadata": {},
   "outputs": [],
   "source": [
    "list_file = []                                          #파일 목록 담을 리스트 생성\n",
    "files = filedialog.askopenfilenames(initialdir=\"/\",\\\n",
    "                 title = \"파일을 선택 해 주세요\",\\\n",
    "                    filetypes = ((\"*.xlsx\",\"*xlsx\"),(\"*.xls\",\"*xls\"),(\"*.csv\",\"*csv\")))\n",
    "#files 변수에 선택 파일 경로 넣기\n",
    "\n",
    "if files == '':\n",
    "    messagebox.showwarning(\"경고\", \"파일을 추가 하세요\")    #파일 선택 안했을 때 메세지 출력\n",
    "\n",
    "print(files)    #files 리스트 값 출력\n",
    "\n",
    "for dir in files:\n",
    "    dirname,basename = os.path.splitext(dir)\n",
    "\n",
    "print(basename)\n",
    "if basename == '.xlsx' or basename == '.xls':\n",
    "    df = pd.read_excel(io=dir,engine='openpyxl',skiprows=11,names=['거래일시', '금액','내용', '메모'], usecols=\"B,D,G,H\")\n",
    "else:\n",
    "    df = pd.read_csv(filepath_or_buffer=dir)    \n",
    "\n",
    "df = df.fillna(\"\")"
   ]
  },
  {
   "cell_type": "code",
   "execution_count": 9,
   "metadata": {},
   "outputs": [
    {
     "name": "stdout",
     "output_type": "stream",
     "text": [
      "26\n",
      "['김도은', '김연우', '김은서', '문희정', '박노엘', '박재욱', '서승현', '신승리', '안지용', '유서진', '이신애', '이윤진', '이제희', '전형우', '정여원', '정주연', '정지원', '정해성', '조환희', '한서인']\n"
     ]
    }
   ],
   "source": [
    "#정산 금액, 인원 입력 후 미정산 인원 추려내기 \n",
    "amount = int(input('정산 금액: '))\n",
    "\n",
    "str = input('인원(복사 후 붙여넣기): ')\n",
    "total_mem = str.split()\n",
    "\n",
    "settlement = round(amount/len(total_mem))\n",
    "\n",
    "settle_df = df.loc[df['금액']==settlement]\n",
    "print(settle_df['내용'].count())\n",
    "paid_mem = settle_df['내용'].dropna().tolist()\n",
    "not_paid_mem = [mem for mem in total_mem if mem not in paid_mem]\n",
    "\n",
    "print(not_paid_mem)"
   ]
  },
  {
   "cell_type": "code",
   "execution_count": null,
   "metadata": {},
   "outputs": [],
   "source": []
  },
  {
   "cell_type": "code",
   "execution_count": null,
   "metadata": {},
   "outputs": [],
   "source": []
  }
 ],
 "metadata": {
  "kernelspec": {
   "display_name": "Python 3",
   "language": "python",
   "name": "python3"
  },
  "language_info": {
   "codemirror_mode": {
    "name": "ipython",
    "version": 3
   },
   "file_extension": ".py",
   "mimetype": "text/x-python",
   "name": "python",
   "nbconvert_exporter": "python",
   "pygments_lexer": "ipython3",
   "version": "3.11.3"
  }
 },
 "nbformat": 4,
 "nbformat_minor": 2
}
